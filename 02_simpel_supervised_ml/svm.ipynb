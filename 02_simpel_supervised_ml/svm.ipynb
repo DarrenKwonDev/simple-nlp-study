{
 "cells": [
  {
   "cell_type": "markdown",
   "metadata": {},
   "source": [
    "서포트 벡터 머신\n",
    "\n",
    "기준선(결정 경계)을 이용한 분류\n",
    "경계선과 데이터 사이의 거리를 'margin'이라 함.\n",
    "support vector는 기준선과 최근접한 데이터들을 말함.\n",
    "최적인 결정 경계는 support vector의 margin을 최대로 해야 함.\n",
    "다만 outlier 때문에 margin에 크게 영향을 주는데 적절하게 soft margin으로 무시하는 것이 좋다.\n",
    "hard margin(이상치 불허용), soft margin(이상치 허용)"
   ]
  },
  {
   "cell_type": "code",
   "execution_count": 6,
   "metadata": {},
   "outputs": [],
   "source": [
    "from sklearn import svm\n",
    "from sklearn import metrics\n",
    "from sklearn import datasets\n",
    "from sklearn import model_selection\n",
    "import os"
   ]
  },
  {
   "cell_type": "code",
   "execution_count": 7,
   "metadata": {},
   "outputs": [],
   "source": [
    "iris = datasets.load_iris()\n",
    "X_train, X_test, y_train, y_test = model_selection.train_test_split(\n",
    "    iris.data, \n",
    "    iris.target, \n",
    "    test_size=0.6, \n",
    "    random_state=42\n",
    ")"
   ]
  },
  {
   "cell_type": "code",
   "execution_count": 8,
   "metadata": {},
   "outputs": [
    {
     "name": "stdout",
     "output_type": "stream",
     "text": [
      "정확도 0.9888888888888889\n"
     ]
    }
   ],
   "source": [
    "# linear kernel 외에도 비선형 데이터를 분류하기 위한 gaussian RBF 커널 등도 존재\n",
    "# C는 Regularization parameter로 값이 클수록 하드 마진이고 적을수록 소프트 마진임.\n",
    "# 나머진 문서 직접 뒤져가며 찾아보자..\n",
    "svm = svm.SVC(kernel='linear', C=1.0, gamma=0.5) \n",
    "svm.fit(X_train, y_train)\n",
    "predictions = svm.predict(X_test)\n",
    "score = metrics.accuracy_score(y_test, predictions)\n",
    "print(\"정확도\", score)"
   ]
  },
  {
   "cell_type": "code",
   "execution_count": null,
   "metadata": {},
   "outputs": [],
   "source": []
  }
 ],
 "metadata": {
  "interpreter": {
   "hash": "054d12451c88fa6cddb0db320e2c73f4d9b272cf1e754592ad6958aa88348a06"
  },
  "kernelspec": {
   "display_name": "Python 3.9.7 ('base')",
   "language": "python",
   "name": "python3"
  },
  "language_info": {
   "codemirror_mode": {
    "name": "ipython",
    "version": 3
   },
   "file_extension": ".py",
   "mimetype": "text/x-python",
   "name": "python",
   "nbconvert_exporter": "python",
   "pygments_lexer": "ipython3",
   "version": "3.9.7"
  },
  "orig_nbformat": 4
 },
 "nbformat": 4,
 "nbformat_minor": 2
}
