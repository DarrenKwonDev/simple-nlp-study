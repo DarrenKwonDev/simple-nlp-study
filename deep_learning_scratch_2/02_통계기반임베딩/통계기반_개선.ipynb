{
 "cells": [
  {
   "cell_type": "markdown",
   "metadata": {},
   "source": [
    "# 점별 상호 정보량(PMI)  \n",
    "\n",
    "단순히 동시에 등장했다고 해서 반드시 연관성이 있는가? 이를 고집한다면 the 같은 녀석들이 유사도가 높다고 나올 것이다. PMI 기준으로 유사도를 재판단해야 한다.\n",
    "\n",
    "$$ PMI(x, y) = log_2(\\frac{P(x, y)}{P(x)P(y)}) $$ \n",
    "\n",
    "다만 $$ log_2{0} = -\\infin $$ 이므로 max(0)로 한 번 감싼 양의 상호 정보량을 활용한다.\n",
    "\n",
    "$$ PPMI(x, y) = max(0, PMI(x, y)) $$ "
   ]
  },
  {
   "cell_type": "code",
   "execution_count": 1,
   "metadata": {},
   "outputs": [],
   "source": [
    "import sys\n",
    "sys.path.append(\"..\")\n",
    "from common.util import ppmi"
   ]
  },
  {
   "cell_type": "code",
   "execution_count": 6,
   "metadata": {},
   "outputs": [
    {
     "data": {
      "text/plain": [
       "(array([0, 1, 2, 3, 4]),\n",
       " {'wow': 0, 'this': 1, 'is': 2, 'really': 3, 'great': 4},\n",
       " {0: 'wow', 1: 'this', 2: 'is', 3: 'really', 4: 'great'})"
      ]
     },
     "execution_count": 6,
     "metadata": {},
     "output_type": "execute_result"
    }
   ],
   "source": []
  },
  {
   "cell_type": "code",
   "execution_count": null,
   "metadata": {},
   "outputs": [],
   "source": []
  }
 ],
 "metadata": {
  "interpreter": {
   "hash": "054d12451c88fa6cddb0db320e2c73f4d9b272cf1e754592ad6958aa88348a06"
  },
  "kernelspec": {
   "display_name": "Python 3.9.7 ('base')",
   "language": "python",
   "name": "python3"
  },
  "language_info": {
   "codemirror_mode": {
    "name": "ipython",
    "version": 3
   },
   "file_extension": ".py",
   "mimetype": "text/x-python",
   "name": "python",
   "nbconvert_exporter": "python",
   "pygments_lexer": "ipython3",
   "version": "3.9.7"
  },
  "orig_nbformat": 4
 },
 "nbformat": 4,
 "nbformat_minor": 2
}
