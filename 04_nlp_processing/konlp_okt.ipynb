{
 "cells": [
  {
   "cell_type": "markdown",
   "metadata": {},
   "source": [
    "형태소 분석기 선택의 기준\n",
    "\n",
    "1. 너무나도 정교하게 형태소 분석을 수행하지만, 너무 잘게 쪼개져서 오히려 의미분석을 하기 힘들다\n",
    "2. 자연어 프로젝트를 할 때 사실 대부분은 명사와 부사, 동사 정도만 사용한다.\n",
    "3. 분석이 너무 정교해지면 속도가 기하급수적으로 느려진다\n",
    "사실 가장 큰 문제는 3번째인 속도라고 할 수 있다. 형태소 분석기중 유명한 꼬꼬마(Kkma)는 필드에서 사실 보기 힘든데 속도가 너무 느리기 때문에 현업에서 쓰기 힘들다. 그러다보니 명사, 부사, 동사 정도만 잘 추출하고 속도가 잘 나오는 것이 프로젝트에 유리하며, 이러한 Goal갖고 만들었다 생각한다.  \n",
    "Okt가 제일 빠르지는 않지만 꼬꼬마, 코모란이 로딩에 5초 정도 걸리는 것에 비해 1.48초라는 합리적인 속도가 소비되며, 가장 중요한 10만 문자의 분석 시간에 Mecab(은전한닢)보다는 느리지만, 2.47초로 코모란보다 10배, 꼬꼬마보다는 17배 정도 빠른 속도를 보여주고 있다.   \n",
    "출처: https://needjarvis.tistory.com/645 [자비스가 필요해:티스토리]\n",
    "\n",
    "\n",
    "https://konlpy.org/ko/latest/morph/#comparison-between-pos-tagging-classes  \n",
    "여기 살펴보니까 mecab이 제일 빠르고 그 다음으로 twitter(okt)임. 나머지는 문자 개수가 늘어남에 따라 기하급수적으로 느려짐  \n"
   ]
  }
 ],
 "metadata": {
  "interpreter": {
   "hash": "054d12451c88fa6cddb0db320e2c73f4d9b272cf1e754592ad6958aa88348a06"
  },
  "kernelspec": {
   "display_name": "Python 3.9.7 ('base')",
   "language": "python",
   "name": "python3"
  },
  "language_info": {
   "codemirror_mode": {
    "name": "ipython",
    "version": 3
   },
   "file_extension": ".py",
   "mimetype": "text/x-python",
   "name": "python",
   "nbconvert_exporter": "python",
   "pygments_lexer": "ipython3",
   "version": "3.9.7"
  },
  "orig_nbformat": 4
 },
 "nbformat": 4,
 "nbformat_minor": 2
}
