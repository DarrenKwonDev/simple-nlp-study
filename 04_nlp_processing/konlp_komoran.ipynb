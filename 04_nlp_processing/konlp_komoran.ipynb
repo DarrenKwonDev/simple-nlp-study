{
 "cells": [
  {
   "cell_type": "code",
   "execution_count": 4,
   "metadata": {},
   "outputs": [],
   "source": [
    "# https://konlpy.org/ko/latest/api/konlpy.tag/#module-konlpy.tag._komoran\n",
    "from konlpy.tag import Komoran"
   ]
  },
  {
   "cell_type": "code",
   "execution_count": 6,
   "metadata": {},
   "outputs": [],
   "source": [
    "komoran = Komoran()"
   ]
  },
  {
   "cell_type": "code",
   "execution_count": 7,
   "metadata": {},
   "outputs": [
    {
     "data": {
      "text/plain": [
       "['아', '자연어', '처리', '꽤', '난이도', '있', '을지', '도']"
      ]
     },
     "execution_count": 7,
     "metadata": {},
     "output_type": "execute_result"
    }
   ],
   "source": [
    "komoran.morphs(\"아 자연어처리 꽤 난이도 있을지도\") # 형태소로 쪼개기"
   ]
  },
  {
   "cell_type": "code",
   "execution_count": 8,
   "metadata": {},
   "outputs": [
    {
     "data": {
      "text/plain": [
       "[('책상', 'NNP'),\n",
       " ('위', 'NNG'),\n",
       " ('에', 'JKB'),\n",
       " ('있', 'VV'),\n",
       " ('는', 'ETM'),\n",
       " ('것', 'NNB'),\n",
       " ('이', 'JKS'),\n",
       " ('페브리즈', 'NNP'),\n",
       " ('이', 'VCP'),\n",
       " ('ㄴ가요', 'EC'),\n",
       " ('에프킬라', 'NNP'),\n",
       " ('이', 'VCP'),\n",
       " ('ㄴ가요', 'EC')]"
      ]
     },
     "execution_count": 8,
     "metadata": {},
     "output_type": "execute_result"
    }
   ],
   "source": [
    "komoran.pos(\"책상 위에 있는 것이 페브리즈인가요 에프킬라인가요\")"
   ]
  },
  {
   "cell_type": "code",
   "execution_count": null,
   "metadata": {},
   "outputs": [],
   "source": []
  }
 ],
 "metadata": {
  "interpreter": {
   "hash": "054d12451c88fa6cddb0db320e2c73f4d9b272cf1e754592ad6958aa88348a06"
  },
  "kernelspec": {
   "display_name": "Python 3.9.7 ('base')",
   "language": "python",
   "name": "python3"
  },
  "language_info": {
   "codemirror_mode": {
    "name": "ipython",
    "version": 3
   },
   "file_extension": ".py",
   "mimetype": "text/x-python",
   "name": "python",
   "nbconvert_exporter": "python",
   "pygments_lexer": "ipython3",
   "version": "3.9.7"
  },
  "orig_nbformat": 4
 },
 "nbformat": 4,
 "nbformat_minor": 2
}
